{
  "cells": [
    {
      "cell_type": "markdown",
      "metadata": {
        "id": "dgbcdC7hrI5w"
      },
      "source": [
        "# Worksheet 01\n",
        "\n",
        "Name:  Tian Tan \\\\\n",
        "UID: U68023245\n",
        "\n",
        "### Topics\n",
        "\n",
        "- Git\n",
        "\n",
        "## Prerequisites (installations)\n",
        "\n",
        "#### This is your checklist:\n",
        "\n",
        "- [x] Access to terminal\n",
        "- [x] Install Git\n",
        "- [x] Sign up for a GitHub account\n",
        "- [x] Choose editor\n",
        "- [x] Set up ssh keys\n",
        "- [x] Configure git\n",
        "\n",
        "### Step 1: Work Environment:  Access to Terminal \n",
        "\n",
        "- Mac/Linux: use **Terminal**\n",
        "- Windows:\n",
        "\t- Option 1:  [Power Shell](https://www.digitalcitizen.life/simple-questions-what-powershell-what-can-you-do-it)\n",
        "\t- Option 2:  Git Bash (recommended)\n",
        "\t\n",
        "### Step 2: Install Git\n",
        "\n",
        "- Mac:  \n",
        "\t- [Git](https://git-scm.com/download/mac)\n",
        "- Windows:  \n",
        "\t- [Git for Windows (Git Bash)](https://gitforwindows.org/)\n",
        "- Linux:\n",
        "\t- [Install Git on Linux](https://www.atlassian.com/git/tutorials/install-git#linux)\n",
        "\n",
        "Confirm Git is installed by typing `git --version` on your terminal\n",
        "\n",
        "### Step 3: Sign up for a GitHub Account\n",
        " \n",
        " Go to [github.com](https://github.com/)\n",
        "\n",
        "### Step 4: Choose a Graphical Editor\n",
        "\n",
        "- Try Visual Studio Code\n",
        "\t* [Visual Studio Code](https://visualstudio.microsoft.com/downloads/)\n",
        "- OR one of these other editors\n",
        "\t* [Sublime Text 3](https://www.sublimetext.com/)\n",
        "\t* [Atom](https://atom.io/) \n",
        "\t* [Notepad++](https://notepad-plus-plus.org/) (for Windows)\n",
        "\n",
        "### Step 5: SSH Setup\n",
        "\n",
        "#### Mac & Linux Users\n",
        "\n",
        "Go to home directory (in terminal)\n",
        "\n",
        "```bash\n",
        "% cd ~\n",
        "% pwd\n",
        "/Users/gallettilance\n",
        "```\n",
        "\n",
        "Go to `.ssh` directory\n",
        "\n",
        "```bash\n",
        "% pwd\n",
        "/Users/gallettilance\n",
        "% cd .ssh\n",
        "% pwd\n",
        "/Users/gallettilance/.ssh \n",
        "```\n",
        "\n",
        "**Note:**  If you do not have the `.ssh` directory, you can create it\n",
        "\n",
        "- if you are in your home directory:\n",
        "\t- <kbd> mkdir .ssh </kbd>  \n",
        "- if you are not in your home directory:\n",
        "\t- <kbd> mkdir ~/.ssh </kbd>  \n",
        "\n",
        "Generate `id_rsa` keypair files if needed\n",
        "\n",
        "- **Note:**  these `id_rsa` files contain a special password for your computer to be connect to network services (Ex:  GitHub, AWS).\n",
        "- Check to see if these files exist by typing <kbd> ls -alt</kbd>\n",
        "- If you do not have these two files (`id_rsa` and `id_rsa.pub`), create them by typing:  \n",
        "\t- <kbd> ssh-keygen</kbd>\n",
        "\t- Hit  <kbd> enter  </kbd> **3 times**\n",
        "\n",
        "```bash\n",
        "% pwd \n",
        "/Users/gallettilance/.ssh\n",
        "% ls\n",
        "% ssh-keygen\n",
        "Generating public/private rsa key pair.\n",
        "Enter file in which to save the key (/Users/gallettilance/.ssh/id_rsa): \n",
        "Enter passphrase (empty for no passphrase): \n",
        "Enter same passphrase again: \n",
        "Your identification has been saved in /Users/gallettilance/.ssh/id_rsa.\n",
        "Your public key has been saved in /Users/gallettilance/.ssh/id_rsa.pub.\n",
        "The key fingerprint is:\n",
        "SHA256:jmDJes1qOzDi8KynXLGQ098JMSRnbIyt0w7vSgEsr2E gallettilance@RESHAMAs-MacBook-Pro.local\n",
        "The key's randomart image is:\n",
        "+---[RSA 2048]----+\n",
        "|   .=+           |\n",
        "|.  .==           |\n",
        "|.o  +o           |\n",
        "|..+= oo          |\n",
        "|.E.+X.  S        |\n",
        "|+o=o=*oo.        |\n",
        "|++.*o.+o.        |\n",
        "|..*.oo           |\n",
        "|o= o+o           |\n",
        "+----[SHA256]-----+\n",
        "% ls\n",
        "total 16\n",
        "-rw-------  1   1675 Dec 17 12:20 id_rsa\n",
        "-rw-r--r--  1    422 Dec 17 12:20 id_rsa.pub\n",
        "% \n",
        "```\n",
        "\n",
        "Navigate to the `.ssh` directory\n",
        "\n",
        "<kbd> cd ~/.ssh </kbd>  \n",
        "\n",
        "open `id_rsa.pub` using your editor of choice and copy its contents. Add `ssh` key to GitHub by following these steps:\n",
        "\n",
        "- go to your [GitHub account](https://github.com/) (create one if you don't have one, and save your user name and password somewhere easily accessible for you.)\n",
        "- click on your avatar/profile picture (upper right of screen)\n",
        "- go to `Settings`\n",
        "- on left of screen, select `SSH and GPG keys`\n",
        "- Select <kbd> New SSH key </kbd>\n",
        "- for \"Title\":  entitle it  \"GitHub key\"\n",
        "- for \"Key\":  paste key from clipboard here\n",
        "- click <kbd> Add SSH key </kbd>\n",
        "- save, exit, confirm GitHub password as requested\n",
        "\n",
        "#### Windows Users\n",
        "\n",
        "Follow [How to Create SSH Keys with PuTTY on Windows](https://www.digitalocean.com/docs/droplets/how-to/add-ssh-keys/create-with-putty/)\n",
        "\n",
        "### Step 6: Configure Git\n",
        "\n",
        "#### Configure user name and email (lets Git know who you are)\n",
        "\n",
        "<kbd> git config --global user.name \"First Last\"  </kbd>  \n",
        "<kbd> git config --global user.email \"myname@email.com\"  </kbd>  \n",
        "\n",
        "To verify these additions, type:  \n",
        "<kbd> git config --list  </kbd>  \n",
        "\n",
        "#### Configure (terminal) editor of choice\n",
        "\n",
        "<kbd> git config --global core.editor \"code --wait\"  </kbd> \n",
        "\n",
        "Other editor options can be found in [Setting Up Git](http://swcarpentry.github.io/git-novice/02-setup/)\n",
        "\n",
        "**Note**: the above only works for Linux. For Mac and Windows you will need to find the equivalent (to \"code --wait\") command for opening vscode from the terminal."
      ]
    },
    {
      "cell_type": "markdown",
      "metadata": {
        "id": "1YXaIEvKrI5z"
      },
      "source": [
        "### Git / GitHub\n",
        "\n",
        "a) what is the difference between git and github?"
      ]
    },
    {
      "cell_type": "markdown",
      "metadata": {
        "id": "C_otn1V6rI50"
      },
      "source": [
        "Git is a version control system and we can interact with it through the terminal. Github is a website to backup and host our files, that is, Github is an online Git-based code hosting service platform."
      ]
    },
    {
      "cell_type": "markdown",
      "metadata": {
        "id": "mHAlsxbArI50"
      },
      "source": [
        "b) what command would you use to copy a repo locally?"
      ]
    },
    {
      "cell_type": "markdown",
      "metadata": {
        "id": "DWWNi9nqrI50"
      },
      "source": [
        "After forking a repo to our own github account, we can type 'git clone' in Git Bash and paste the URL of the repo to create your local copy and edit it locally.\n",
        "\n",
        "\n",
        "\n"
      ]
    },
    {
      "cell_type": "markdown",
      "metadata": {
        "id": "YqAzBqcWrI50"
      },
      "source": [
        "c) what button would you use to make a copy of a repo in GitHub?"
      ]
    },
    {
      "cell_type": "markdown",
      "metadata": {
        "id": "dTb4T5--rI51"
      },
      "source": [
        "In the top-right corner of the GitHub page, click **Fork** button."
      ]
    },
    {
      "cell_type": "markdown",
      "metadata": {
        "id": "cI3Vs-rnrI51"
      },
      "source": [
        "d) let's say you have a copy of a repo in GitHub but that repo changes, does your copy change too?"
      ]
    },
    {
      "cell_type": "markdown",
      "metadata": {
        "id": "uT0N0PvvrI51"
      },
      "source": [
        "No, my copy will not change. "
      ]
    },
    {
      "cell_type": "markdown",
      "metadata": {
        "id": "d4ZappzgrI52"
      },
      "source": [
        "e) what are the three commands you use to create a new save point in your git repo and back it up to GitHub?"
      ]
    },
    {
      "cell_type": "markdown",
      "metadata": {
        "id": "Ndg4OiozrI52"
      },
      "source": [
        "git add . \\\\\n",
        "git commit -m \"xxx\" \\\\\n",
        "git push origin master \\\\\n"
      ]
    },
    {
      "cell_type": "markdown",
      "metadata": {
        "id": "7woUghrrrI52"
      },
      "source": [
        "f) how would you make your copy change so that it has the most up-to-date version of the repo it is copied from?"
      ]
    },
    {
      "cell_type": "markdown",
      "metadata": {
        "id": "fRxI26uirI53"
      },
      "source": [
        "We can use 'git fetch upstream' and then 'git merge' to our copy. Or we can just use 'git pull upstream' to keep up-to-date."
      ]
    },
    {
      "cell_type": "markdown",
      "metadata": {
        "id": "K3YkMYCSrI53"
      },
      "source": [
        "g) why are there sometimes conflicts between copied repos / branches? How do you resolve them?"
      ]
    },
    {
      "cell_type": "markdown",
      "metadata": {
        "id": "HbO_KpGjrI6O"
      },
      "source": [
        "When the base of one branch is the successor of the base of another branch, there will be conflicts when merging at this time. We need to decide what the conflicting commits should be. In this case, we can do manual selection, that is, the rebase to solve the conflicts. \\\\\n",
        "Another case is that conflicts arise when multiple people have changed the same lines in a file. In this case, we also need to rebase. "
      ]
    },
    {
      "cell_type": "markdown",
      "metadata": {
        "id": "d2xAQBlDrI6O"
      },
      "source": [
        "h) describe all the steps needed to make a PR to contribute your notes to the class repository."
      ]
    },
    {
      "cell_type": "markdown",
      "metadata": {
        "id": "ejQJS2iVrI6P"
      },
      "source": [
        "First, we need to 'add' and 'commit' the notes in our local git repository. \\\\\n",
        "Then, git push the notes to our GitHub remote reposiroty. \\\\\n",
        "Finally, we click **Create pull request** button on GitHub to the class repository. \\\\\n",
        "Next, it depends on whether the original author (Class repo author) is willing to merge your submission."
      ]
    },
    {
      "cell_type": "markdown",
      "metadata": {
        "id": "Pw8qUTtSrI6P"
      },
      "source": [
        "i) Write here some other commands we used in class and what they mean / how to use them:"
      ]
    },
    {
      "cell_type": "markdown",
      "metadata": {
        "id": "Kc5pMxTJrI6P"
      },
      "source": [
        "1. git log: Displays all commits in the repository history. \\\\\n",
        "2. git config user.name: Displays the git username. \\\\\n",
        "3. git status: Used to see if the file has been modified again since your last commit. \\\\\n",
        "4. cd ..: Return to the previous directory.  "
      ]
    }
  ],
  "metadata": {
    "language_info": {
      "name": "python"
    },
    "orig_nbformat": 4,
    "colab": {
      "provenance": [],
      "collapsed_sections": []
    }
  },
  "nbformat": 4,
  "nbformat_minor": 0
}