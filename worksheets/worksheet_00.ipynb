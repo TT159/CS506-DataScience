{
  "cells": [
    {
      "cell_type": "markdown",
      "metadata": {
        "id": "1F86o1Jtvrou"
      },
      "source": [
        "# Worksheet 00\n",
        "\n",
        "Name: Tian Tan \n",
        "UID: U68023245\n",
        "\n",
        "### Topics\n",
        "\n",
        "- course overview\n",
        "- productive programming\n",
        "- python review\n",
        "\n",
        "### Course Overview\n",
        "\n",
        "a) Why are you taking this course?"
      ]
    },
    {
      "cell_type": "markdown",
      "metadata": {
        "id": "yK7PDt_qvroz"
      },
      "source": [
        "I want to do more data science research. This course can strengthen my practical ability and learn how to use relevant tools efficiently and correctly."
      ]
    },
    {
      "cell_type": "markdown",
      "metadata": {
        "id": "3GH-ueQ6vro0"
      },
      "source": [
        "b) What are your academic and professional goals for this semester?"
      ]
    },
    {
      "cell_type": "markdown",
      "metadata": {
        "id": "V7i3Rnu5vro0"
      },
      "source": [
        "In addition to completing the corresponding required courses, I hope to increase my practical ability and experience in industrial projects. Such as coding style, project architecture, and software development life cycle, etc."
      ]
    },
    {
      "cell_type": "markdown",
      "metadata": {
        "id": "d0eRj4Eqvro1"
      },
      "source": [
        "c) Do you have previous Data Science experience? If so, please expand."
      ]
    },
    {
      "cell_type": "markdown",
      "metadata": {
        "id": "7zH1gxWBvro1"
      },
      "source": [
        "Yes, I do. Last semester, I worked as a research assistant at BU's Brain Imaging and Informatics Lab. I was involved in building machine learning/deep learning classifier on multi-modal dataset combining neuroimaging (MRI) data, etc. I learned how to reduce the dimensionality of data, how to work with datasets. I hope it helps."
      ]
    },
    {
      "cell_type": "markdown",
      "metadata": {
        "id": "Bx3Wewdbvro2"
      },
      "source": [
        "d) Data Science is a combination of programming, math (linear algebra and calculus), and statistics. Which of these three do you struggle with the most (you may pick more than one)?"
      ]
    },
    {
      "cell_type": "markdown",
      "metadata": {
        "id": "AgOIs_dqvro3"
      },
      "source": [
        "I think it might be statistics or programming."
      ]
    },
    {
      "cell_type": "markdown",
      "metadata": {
        "id": "sj1ymme3vro3"
      },
      "source": [
        "### Productive Programming\n",
        "\n",
        "a) What is a drawback of the top down approach?"
      ]
    },
    {
      "cell_type": "markdown",
      "metadata": {
        "id": "WpZCMoPUvro5"
      },
      "source": [
        "ANS: \\\\\n",
        "In top down, we need to decompose the complex problem into some sub-problems,  and this process is also called as modularization. However, The decomposition of the modules is restricted after achieving a certain level. And until a certain set of modules have been integrated, it may not be possible to observe meaningful system functions. "
      ]
    },
    {
      "cell_type": "markdown",
      "metadata": {
        "id": "XulrOVlnvro5"
      },
      "source": [
        "b) What is a drawback of the bottom up approach?"
      ]
    },
    {
      "cell_type": "markdown",
      "metadata": {
        "id": "RSJm1zYhvro6"
      },
      "source": [
        "ANS: \\\\\n",
        "Sometimes, we cannot observe system level functions from a partly integrated system. And we cannot observe the system level functions until the top level part is in place. The program as an entity does not exist until the last module is added."
      ]
    },
    {
      "cell_type": "markdown",
      "metadata": {
        "id": "DsBFC8nivro6"
      },
      "source": [
        "c) What are 3 things you can do to have a better debugging experience?"
      ]
    },
    {
      "cell_type": "markdown",
      "metadata": {
        "id": "-X0iuWqrvro7"
      },
      "source": [
        "ANS: \\\\\n",
        "1, We should read the error clearly and re-read our code. \\\\\n",
        "2, Sanity check where we can. For example, we can write test cases to detect each small function. \\\\\n",
        "3, Look online for some help.\n"
      ]
    },
    {
      "cell_type": "markdown",
      "metadata": {
        "id": "PBDM-Kylvro7"
      },
      "source": [
        "### Python review\n",
        "\n",
        "#### Lambda functions\n",
        "\n",
        "Python supports the creation of anonymous functions (i.e. functions that are not bound to a name) at runtime, using a construct called `lambda`. Instead of writing a named function as such:"
      ]
    },
    {
      "cell_type": "code",
      "execution_count": 37,
      "metadata": {
        "id": "xKSudRkWvro8",
        "outputId": "81e92df1-49c8-4031-d4d7-981003419e21",
        "colab": {
          "base_uri": "https://localhost:8080/"
        }
      },
      "outputs": [
        {
          "output_type": "execute_result",
          "data": {
            "text/plain": [
              "64"
            ]
          },
          "metadata": {},
          "execution_count": 37
        }
      ],
      "source": [
        "def f(x):\n",
        "    return x**2\n",
        "f(8)"
      ]
    },
    {
      "cell_type": "markdown",
      "metadata": {
        "id": "82XvdqUavro_"
      },
      "source": [
        "One can write an anonymous function as such:"
      ]
    },
    {
      "cell_type": "code",
      "execution_count": 38,
      "metadata": {
        "colab": {
          "base_uri": "https://localhost:8080/"
        },
        "id": "izQxTalbvrpA",
        "outputId": "06ab1dbe-f403-4d74-dfa5-1a3b08228b78"
      },
      "outputs": [
        {
          "output_type": "execute_result",
          "data": {
            "text/plain": [
              "64"
            ]
          },
          "metadata": {},
          "execution_count": 38
        }
      ],
      "source": [
        "(lambda x: x**2)(8)"
      ]
    },
    {
      "cell_type": "markdown",
      "metadata": {
        "id": "wnqQeNW1vrpA"
      },
      "source": [
        "A `lambda` function can take multiple arguments:"
      ]
    },
    {
      "cell_type": "code",
      "execution_count": 35,
      "metadata": {
        "colab": {
          "base_uri": "https://localhost:8080/"
        },
        "id": "4T4ycBigvrpB",
        "outputId": "45162d61-259c-490a-bd10-b97f0e9ae3f8"
      },
      "outputs": [
        {
          "output_type": "execute_result",
          "data": {
            "text/plain": [
              "5"
            ]
          },
          "metadata": {},
          "execution_count": 35
        }
      ],
      "source": [
        "(lambda x, y : x + y)(2, 3)"
      ]
    },
    {
      "cell_type": "markdown",
      "metadata": {
        "id": "wirOFTxnvrpB"
      },
      "source": [
        "The arguments can be `lambda` functions themselves:"
      ]
    },
    {
      "cell_type": "code",
      "execution_count": 36,
      "metadata": {
        "colab": {
          "base_uri": "https://localhost:8080/"
        },
        "id": "J3TRERPVvrpC",
        "outputId": "5ffe4ba8-1edc-4617-c346-21dcb9338f28"
      },
      "outputs": [
        {
          "output_type": "execute_result",
          "data": {
            "text/plain": [
              "5"
            ]
          },
          "metadata": {},
          "execution_count": 36
        }
      ],
      "source": [
        "(lambda x : x(3))(lambda y: 2 + y)"
      ]
    },
    {
      "cell_type": "markdown",
      "metadata": {
        "id": "RE_tFmSvvrpC"
      },
      "source": [
        "a) write a `lambda` function that takes three arguments `x, y, z` and returns `True` only if `x < y < z`."
      ]
    },
    {
      "cell_type": "code",
      "execution_count": 15,
      "metadata": {
        "colab": {
          "base_uri": "https://localhost:8080/"
        },
        "id": "vwqEqw7UvrpC",
        "outputId": "17217d3c-f64f-4cc4-c219-e689a2be1a3d"
      },
      "outputs": [
        {
          "output_type": "stream",
          "name": "stdout",
          "text": [
            "True\n"
          ]
        }
      ],
      "source": [
        "Compare = (lambda x, y, z : x < y < z)\n",
        "print(Compare(1,2,3))"
      ]
    },
    {
      "cell_type": "markdown",
      "metadata": {
        "id": "DjkWIFUBvrpC"
      },
      "source": [
        "b) write a `lambda` function that takes a parameter `n` and returns a lambda function that will multiply any input it receives by `n`."
      ]
    },
    {
      "cell_type": "code",
      "execution_count": 9,
      "metadata": {
        "colab": {
          "base_uri": "https://localhost:8080/"
        },
        "id": "yRDh4ZdyvrpD",
        "outputId": "41b82059-1082-4f8d-cae5-a8d17f7bf467"
      },
      "outputs": [
        {
          "output_type": "execute_result",
          "data": {
            "text/plain": [
              "6"
            ]
          },
          "metadata": {},
          "execution_count": 9
        }
      ],
      "source": [
        "# (lambda n : n(5))(lambda x : x * x)\n",
        "(lambda n : lambda x : x * n)(3)(2)"
      ]
    },
    {
      "cell_type": "markdown",
      "metadata": {
        "id": "q0V_-VeIvrpD"
      },
      "source": [
        "#### Map\n",
        "\n",
        "`map(func, s)`\n",
        "\n",
        "`func` is a function and `s` is a sequence (e.g., a list). \n",
        "\n",
        "`map()` returns an object that will apply function `func` to each of the elements of `s`.\n",
        "\n",
        "For example if you want to multiply every element in a list by 2 you can write the following:"
      ]
    },
    {
      "cell_type": "code",
      "execution_count": 16,
      "metadata": {
        "id": "3dCej_IkvrpD",
        "outputId": "5a785644-ad8f-425f-b7b3-f79c4358daf0",
        "colab": {
          "base_uri": "https://localhost:8080/"
        }
      },
      "outputs": [
        {
          "output_type": "stream",
          "name": "stdout",
          "text": [
            "[2, 4, 6, 8, 10]\n"
          ]
        }
      ],
      "source": [
        "mylist = [1, 2, 3, 4, 5]\n",
        "mylist_mul_by_2 = map(lambda x : 2 * x, mylist)\n",
        "print(list(mylist_mul_by_2))"
      ]
    },
    {
      "cell_type": "markdown",
      "metadata": {
        "id": "gwQQJC11vrpE"
      },
      "source": [
        "`map` can also be applied to more than one list as long as they are the same size:"
      ]
    },
    {
      "cell_type": "code",
      "execution_count": 17,
      "metadata": {
        "colab": {
          "base_uri": "https://localhost:8080/"
        },
        "id": "CQx7urP1vrpE",
        "outputId": "ad7541be-71c3-438f-b683-2dbc5ada210d"
      },
      "outputs": [
        {
          "output_type": "execute_result",
          "data": {
            "text/plain": [
              "[6, 6, 6, 6, 6]"
            ]
          },
          "metadata": {},
          "execution_count": 17
        }
      ],
      "source": [
        "a = [1, 2, 3, 4, 5]\n",
        "b = [5, 4, 3, 2, 1]\n",
        "\n",
        "a_plus_b = map(lambda x, y: x + y, a, b)\n",
        "list(a_plus_b)\n",
        "# print(a_plus_b) # >>> <map object at 0x7f73122320d0> will return an object address"
      ]
    },
    {
      "cell_type": "markdown",
      "metadata": {
        "id": "ilnU7E0ZvrpF"
      },
      "source": [
        "c) write a map that checks if elements are greater than zero"
      ]
    },
    {
      "cell_type": "code",
      "execution_count": 18,
      "metadata": {
        "colab": {
          "base_uri": "https://localhost:8080/"
        },
        "id": "prNINw6YvrpF",
        "outputId": "aab0e6ed-a1d2-49fd-e3ea-6bbcfbbd9592"
      },
      "outputs": [
        {
          "output_type": "execute_result",
          "data": {
            "text/plain": [
              "[False, False, False, True, True]"
            ]
          },
          "metadata": {},
          "execution_count": 18
        }
      ],
      "source": [
        "c = [-2, -1, 0, 1, 2]\n",
        "gt_zero = map(lambda x : x > 0, c)\n",
        "list(gt_zero)"
      ]
    },
    {
      "cell_type": "markdown",
      "metadata": {
        "id": "HDemK0X-vrpF"
      },
      "source": [
        "d) write a map that checks if elements are multiples of 3"
      ]
    },
    {
      "cell_type": "code",
      "execution_count": 19,
      "metadata": {
        "colab": {
          "base_uri": "https://localhost:8080/"
        },
        "id": "xINrNCpUvrpG",
        "outputId": "e42c425c-90e8-4e24-e184-dac80f24d8c9"
      },
      "outputs": [
        {
          "output_type": "execute_result",
          "data": {
            "text/plain": [
              "[False, True, True, False, False]"
            ]
          },
          "metadata": {},
          "execution_count": 19
        }
      ],
      "source": [
        "d = [1, 3, 6, 11, 2]\n",
        "mul_of3 = map(lambda x : x % 3 == 0, d)\n",
        "list(mul_of3)"
      ]
    },
    {
      "cell_type": "markdown",
      "metadata": {
        "id": "VpeZ1-DDvrpG"
      },
      "source": [
        "#### Filter\n",
        "\n",
        "`filter(function, list)` returns a new list containing all the elements of `list` for which `function()` evaluates to `True.`\n",
        "\n",
        "e) write a filter that will only return even numbers in the list"
      ]
    },
    {
      "cell_type": "code",
      "execution_count": 24,
      "metadata": {
        "colab": {
          "base_uri": "https://localhost:8080/"
        },
        "id": "3vPzH-IsvrpG",
        "outputId": "4e359c98-3e44-4ad9-f528-03b0f8580eb1"
      },
      "outputs": [
        {
          "output_type": "execute_result",
          "data": {
            "text/plain": [
              "[2, 4, 6, 8, 10]"
            ]
          },
          "metadata": {},
          "execution_count": 24
        }
      ],
      "source": [
        "e = [1, 2, 3, 4, 5, 6, 7, 8, 9, 10]\n",
        "evens = filter(lambda x : x % 2 == 0, e)\n",
        "list(evens)\n",
        "# print(evens) # >>> also return an object"
      ]
    },
    {
      "cell_type": "markdown",
      "metadata": {
        "id": "GWiTUjNbvrpH"
      },
      "source": [
        "#### Reduce\n",
        "\n",
        "`reduce(function, sequence[, initial])` returns the result of sequencially applying the function to the sequence (starting at an initial state). You can think of reduce as consuming the sequence via the function.\n",
        "\n",
        "For example, let's say we want to add all elements in a list. We could write the following:"
      ]
    },
    {
      "cell_type": "code",
      "execution_count": 23,
      "metadata": {
        "colab": {
          "base_uri": "https://localhost:8080/"
        },
        "id": "Usd7bXBqvrpH",
        "outputId": "dca364bf-7ba2-4b27-916b-7c45e355248a"
      },
      "outputs": [
        {
          "output_type": "stream",
          "name": "stdout",
          "text": [
            "15\n"
          ]
        }
      ],
      "source": [
        "from functools import reduce\n",
        "\n",
        "nums = [1, 2, 3, 4, 5]\n",
        "sum_nums = reduce(lambda acc, x : acc + x, nums, 0) # 0 initial value for acc，x is element in nums\n",
        "print(sum_nums)"
      ]
    },
    {
      "cell_type": "markdown",
      "metadata": {
        "id": "6NOdswqGvrpH"
      },
      "source": [
        "Let's walk through the steps of `reduce` above:\n",
        "\n",
        "1) the value of `acc` is set to 0 (our initial value)\n",
        "2) Apply the lambda function on `acc` and the first element of the list: `acc` = `acc` + 1 = 1\n",
        "3) `acc` = `acc` + 2 = 3\n",
        "4) `acc` = `acc` + 3 = 6\n",
        "5) `acc` = `acc` + 4 = 10\n",
        "6) `acc` = `acc` + 5 = 15\n",
        "7) return `acc`\n",
        "\n",
        "`acc` is short for `accumulator`.\n",
        "\n",
        "f) Using `reduce` write a function that returns the factorial of a number. (recall: N! (N factorial) = N * (N - 1) * (N - 2) * ... * 2 * 1)"
      ]
    },
    {
      "cell_type": "code",
      "execution_count": 26,
      "metadata": {
        "colab": {
          "base_uri": "https://localhost:8080/"
        },
        "id": "J81FGcFSvrpH",
        "outputId": "066ac646-821f-4566-bd82-c465ac21ea0c"
      },
      "outputs": [
        {
          "output_type": "execute_result",
          "data": {
            "text/plain": [
              "3628800"
            ]
          },
          "metadata": {},
          "execution_count": 26
        }
      ],
      "source": [
        "factorial = lambda x : reduce(lambda a, b : a * b, range(1, x + 1), 1)\n",
        "factorial(10) # 10"
      ]
    },
    {
      "cell_type": "markdown",
      "metadata": {
        "id": "Na3NtYrGvrpI"
      },
      "source": [
        "g) Using `reduce` and `filter`, write a function that returns all the primes below a certain number"
      ]
    },
    {
      "cell_type": "code",
      "execution_count": 34,
      "metadata": {
        "id": "aDLrK1gsvrpI",
        "colab": {
          "base_uri": "https://localhost:8080/"
        },
        "outputId": "3919d822-aa3e-4def-c44c-def0b80a7ab5"
      },
      "outputs": [
        {
          "output_type": "stream",
          "name": "stdout",
          "text": [
            "[2, 3, 5, 7, 11, 13, 17, 19, 23, 29, 31, 37, 41, 43, 47, 53, 59, 61, 67, 71, 73, 79, 83, 89, 97]\n"
          ]
        }
      ],
      "source": [
        "# sieve = lambda x : reduce(lambda i, n : i if 0 in [n%x for x in i] else i+[n], range(2, x + 1), [])\n",
        "# print(sieve(100))\n",
        "# primes = filter(lambda prime: all(prime%num != 0 for num in range(2, prime)), range(2,100))\n",
        "# print(list(primes))\n",
        "\n",
        "sieve = lambda x : reduce(lambda acc, y : list(filter(lambda z : True if z==y else z%y != 0, acc)), range(2, x), range(2, x))\n",
        "print(sieve(100))"
      ]
    },
    {
      "cell_type": "markdown",
      "metadata": {
        "id": "pqKemM7hvrpI"
      },
      "source": [
        "### What is going on?\n",
        "\n",
        "For each of the following code snippets, explain why the output is what it is:"
      ]
    },
    {
      "cell_type": "code",
      "execution_count": 51,
      "metadata": {
        "id": "lrBDWK7BvrpI",
        "outputId": "04392e71-5575-4421-964f-6e17ac9d8300",
        "colab": {
          "base_uri": "https://localhost:8080/"
        }
      },
      "outputs": [
        {
          "output_type": "stream",
          "name": "stdout",
          "text": [
            "OVERDRAWN\n"
          ]
        }
      ],
      "source": [
        "class Bank:\n",
        "  def __init__(self, balance):\n",
        "    self.balance = balance\n",
        "  \n",
        "  def is_overdrawn(self):\n",
        "    return self.balance < 0\n",
        "\n",
        "myBank = Bank(100)\n",
        "# print(myBank.is_overdrawn())\n",
        "# youBank = Bank\n",
        "# print(youBank.balance, youBank.is_overdrawn)\n",
        "\n",
        "\n",
        "if myBank.is_overdrawn:\n",
        "# if myBank.is_overdrawn():\n",
        "  print(\"OVERDRAWN\")\n",
        "else:\n",
        "  print(\"ALL GOOD\")"
      ]
    },
    {
      "cell_type": "markdown",
      "metadata": {
        "id": "zjAPQ8a4vrpI"
      },
      "source": [
        "ANS: \\\\\n",
        "Since in the 'if' statement, the is_overdrawn function is called without brackets, then the function itself is called, which is the entire function body, a function object, and there is no need to wait for the function to return. \\\\\n",
        "Whether the return value is True or False, the function object truly exists, so the 'if' statement will be True and it will print \"OVERDRAWN\".  \n"
      ]
    },
    {
      "cell_type": "code",
      "execution_count": 53,
      "metadata": {
        "id": "_BDfXOLlvrpJ",
        "outputId": "5a8294f9-81f8-44fc-eac5-6e7aeefd2641",
        "colab": {
          "base_uri": "https://localhost:8080/"
        }
      },
      "outputs": [
        {
          "output_type": "stream",
          "name": "stdout",
          "text": [
            "0\n",
            "1\n",
            "2\n",
            "3\n"
          ]
        }
      ],
      "source": [
        "for i in range(4):\n",
        "    print(i)\n",
        "    i = 10\n",
        "    # print(i)"
      ]
    },
    {
      "cell_type": "markdown",
      "source": [
        "ANS: \\\\\n",
        "Modifying the index variable 'i' in the 'for' loop is only valid for the current loop body, and the index variable will be reassigned in the next loop. And range() is an iterator, it only outputs information, but cannot modify the content of the iterator. \\\\\n",
        "Thus although 'i' is modified in the current loop body (i = 10), in the next loop, 'i' will be reassigned to the corresponding value in range(). "
      ],
      "metadata": {
        "id": "aFClfDhol3gH"
      }
    },
    {
      "cell_type": "code",
      "execution_count": 63,
      "metadata": {
        "id": "yhBZ8-xCvrpJ",
        "outputId": "42f3a15c-673c-43e8-9f85-6a47d00caf18",
        "colab": {
          "base_uri": "https://localhost:8080/"
        }
      },
      "outputs": [
        {
          "output_type": "stream",
          "name": "stdout",
          "text": [
            "[['', '', ''], ['', '', ''], ['', '', '']]\n",
            "[['X', '', ''], ['X', '', ''], ['X', '', '']]\n"
          ]
        }
      ],
      "source": [
        "row = [\"\"] * 3 # row i['', '', '']\n",
        "board = [row] * 3\n",
        "print(board) # [['', '', ''], ['', '', ''], ['', '', '']]\n",
        "board[0][0] = \"X\"\n",
        "print(board)"
      ]
    },
    {
      "cell_type": "markdown",
      "metadata": {
        "id": "9oXGYiFjvrpJ"
      },
      "source": [
        "ANS: \\\\\n",
        "The 'list' belongs to a mutable object, so when it is assigned a value, a soft copy will be performed, that is, only the addresses of the elements in the container are copied instead of the value, and if one of them is changed, the corresponding value will also change. \\\\\n",
        "The [row]*3 here is actually 3 repeated references to the 'row' memory address, that is, board[0], board[1] and board[2] are actually the same list.\n"
      ]
    },
    {
      "cell_type": "code",
      "execution_count": 67,
      "metadata": {
        "id": "VL2XtUH5vrpJ",
        "outputId": "866fd593-ebb6-4c53-f6c8-8e2ce587fab8",
        "colab": {
          "base_uri": "https://localhost:8080/"
        }
      },
      "outputs": [
        {
          "output_type": "stream",
          "name": "stdout",
          "text": [
            "[0, 1, 2, 3]\n",
            "[3, 3, 3, 3]\n"
          ]
        }
      ],
      "source": [
        "funcs = []\n",
        "results = []\n",
        "for x in range(4):\n",
        "    def some_func():\n",
        "        return x\n",
        "    funcs.append(some_func)\n",
        "    # print(funcs)\n",
        "    results.append(some_func())  # note the function call here\n",
        "# print(x)\n",
        "funcs_results = [func() for func in funcs]\n",
        "print(results) # [0,1,2]\n",
        "print(funcs_results)"
      ]
    },
    {
      "cell_type": "markdown",
      "metadata": {
        "id": "vTpqWJHIvrpK"
      },
      "source": [
        "ANS: \\\\\n",
        "It's similar with the first question above. When there are no brackets, the function itself is called and won't return. So 'funcs' is a list contains 4 'some_func' function objects. With brackets, the execution result of the function is called. Thus print(results) will get [0,1,2,3]. \\\\\n",
        "At the same time, after 'for' loop, the value of the index variable 'x' is finally modified to 3. Thus when we call the function with brackets again 'func()', it will take x=3 as the parameter and return 3. Then we get [3,3,3,3]."
      ]
    },
    {
      "cell_type": "code",
      "execution_count": 77,
      "metadata": {
        "id": "wEvtANarvrpK",
        "outputId": "438dd8bc-d43a-4c96-c521-d73c2b9bd7a9",
        "colab": {
          "base_uri": "https://localhost:8080/"
        }
      },
      "outputs": [
        {
          "output_type": "stream",
          "name": "stdout",
          "text": [
            "0\n"
          ]
        }
      ],
      "source": [
        "f = open(\"./data.txt\", \"w+\")\n",
        "f.write(\"1,2,3,4,5\")\n",
        "f.close()\n",
        "\n",
        "nums = []\n",
        "# with open(\"./data.txt\", \"r+\") as f:\n",
        "with open(\"./data.txt\", \"w+\") as f:\n",
        "  lines = f.readlines()\n",
        "  # print(lines)\n",
        "  for line in lines:\n",
        "    nums += [int(x) for x in line.split(\",\")]\n",
        "\n",
        "print(sum(nums))"
      ]
    },
    {
      "cell_type": "markdown",
      "metadata": {
        "id": "a04Fkdd4vrpK"
      },
      "source": [
        "ANS: \\\\\n",
        "'w+' creates a new read and write, it will clear the file content to zero. Thus we will get 0."
      ]
    }
  ],
  "metadata": {
    "interpreter": {
      "hash": "e7370f93d1d0cde622a1f8e1c04877d8463912d04d973331ad4851f04de6915a"
    },
    "kernelspec": {
      "display_name": "Python 3.9.9 64-bit",
      "language": "python",
      "name": "python3"
    },
    "language_info": {
      "codemirror_mode": {
        "name": "ipython",
        "version": 3
      },
      "file_extension": ".py",
      "mimetype": "text/x-python",
      "name": "python",
      "nbconvert_exporter": "python",
      "pygments_lexer": "ipython3",
      "version": "3.9.9"
    },
    "orig_nbformat": 4,
    "colab": {
      "provenance": [],
      "toc_visible": true
    }
  },
  "nbformat": 4,
  "nbformat_minor": 0
}