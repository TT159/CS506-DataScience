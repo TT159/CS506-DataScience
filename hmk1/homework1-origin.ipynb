{
 "cells": [
  {
   "cell_type": "markdown",
   "metadata": {},
   "source": [
    "# Homework 1 (100 points)\n",
    "\n",
    "The goal of this homework is to practice using [pandas](https://pypi.org/project/pandas/) methods. If your:\n",
    "\n",
    "1. code is taking a long time to run\n",
    "2. code involves for loops or while loops\n",
    "\n",
    "look through the pandas documentation for alternatives.\n",
    "\n",
    "## Exercise 1 (60 points)\n",
    "\n",
    "This exercise will use the [Titanic dataset](https://www.kaggle.com/c/titanic/data) (https://www.kaggle.com/c/titanic/data). Download the file named `train.csv` and place it in the same folder as this notebook.\n",
    "\n",
    "a) Write a function that reads in a filepath to a csv and returns the DataFrame. (5 points)"
   ]
  },
  {
   "cell_type": "code",
   "execution_count": 1,
   "metadata": {},
   "outputs": [
    {
     "data": {
      "text/html": [
       "<div>\n",
       "<style scoped>\n",
       "    .dataframe tbody tr th:only-of-type {\n",
       "        vertical-align: middle;\n",
       "    }\n",
       "\n",
       "    .dataframe tbody tr th {\n",
       "        vertical-align: top;\n",
       "    }\n",
       "\n",
       "    .dataframe thead th {\n",
       "        text-align: right;\n",
       "    }\n",
       "</style>\n",
       "<table border=\"1\" class=\"dataframe\">\n",
       "  <thead>\n",
       "    <tr style=\"text-align: right;\">\n",
       "      <th></th>\n",
       "      <th>PassengerId</th>\n",
       "      <th>Survived</th>\n",
       "      <th>Pclass</th>\n",
       "      <th>Age</th>\n",
       "      <th>SibSp</th>\n",
       "      <th>Parch</th>\n",
       "      <th>Fare</th>\n",
       "    </tr>\n",
       "  </thead>\n",
       "  <tbody>\n",
       "    <tr>\n",
       "      <th>count</th>\n",
       "      <td>891.000000</td>\n",
       "      <td>891.000000</td>\n",
       "      <td>891.000000</td>\n",
       "      <td>714.000000</td>\n",
       "      <td>891.000000</td>\n",
       "      <td>891.000000</td>\n",
       "      <td>891.000000</td>\n",
       "    </tr>\n",
       "    <tr>\n",
       "      <th>mean</th>\n",
       "      <td>446.000000</td>\n",
       "      <td>0.383838</td>\n",
       "      <td>2.308642</td>\n",
       "      <td>29.699118</td>\n",
       "      <td>0.523008</td>\n",
       "      <td>0.381594</td>\n",
       "      <td>32.204208</td>\n",
       "    </tr>\n",
       "    <tr>\n",
       "      <th>std</th>\n",
       "      <td>257.353842</td>\n",
       "      <td>0.486592</td>\n",
       "      <td>0.836071</td>\n",
       "      <td>14.526497</td>\n",
       "      <td>1.102743</td>\n",
       "      <td>0.806057</td>\n",
       "      <td>49.693429</td>\n",
       "    </tr>\n",
       "    <tr>\n",
       "      <th>min</th>\n",
       "      <td>1.000000</td>\n",
       "      <td>0.000000</td>\n",
       "      <td>1.000000</td>\n",
       "      <td>0.420000</td>\n",
       "      <td>0.000000</td>\n",
       "      <td>0.000000</td>\n",
       "      <td>0.000000</td>\n",
       "    </tr>\n",
       "    <tr>\n",
       "      <th>25%</th>\n",
       "      <td>223.500000</td>\n",
       "      <td>0.000000</td>\n",
       "      <td>2.000000</td>\n",
       "      <td>20.125000</td>\n",
       "      <td>0.000000</td>\n",
       "      <td>0.000000</td>\n",
       "      <td>7.910400</td>\n",
       "    </tr>\n",
       "    <tr>\n",
       "      <th>50%</th>\n",
       "      <td>446.000000</td>\n",
       "      <td>0.000000</td>\n",
       "      <td>3.000000</td>\n",
       "      <td>28.000000</td>\n",
       "      <td>0.000000</td>\n",
       "      <td>0.000000</td>\n",
       "      <td>14.454200</td>\n",
       "    </tr>\n",
       "    <tr>\n",
       "      <th>75%</th>\n",
       "      <td>668.500000</td>\n",
       "      <td>1.000000</td>\n",
       "      <td>3.000000</td>\n",
       "      <td>38.000000</td>\n",
       "      <td>1.000000</td>\n",
       "      <td>0.000000</td>\n",
       "      <td>31.000000</td>\n",
       "    </tr>\n",
       "    <tr>\n",
       "      <th>max</th>\n",
       "      <td>891.000000</td>\n",
       "      <td>1.000000</td>\n",
       "      <td>3.000000</td>\n",
       "      <td>80.000000</td>\n",
       "      <td>8.000000</td>\n",
       "      <td>6.000000</td>\n",
       "      <td>512.329200</td>\n",
       "    </tr>\n",
       "  </tbody>\n",
       "</table>\n",
       "</div>"
      ],
      "text/plain": [
       "       PassengerId    Survived      Pclass         Age       SibSp  \\\n",
       "count   891.000000  891.000000  891.000000  714.000000  891.000000   \n",
       "mean    446.000000    0.383838    2.308642   29.699118    0.523008   \n",
       "std     257.353842    0.486592    0.836071   14.526497    1.102743   \n",
       "min       1.000000    0.000000    1.000000    0.420000    0.000000   \n",
       "25%     223.500000    0.000000    2.000000   20.125000    0.000000   \n",
       "50%     446.000000    0.000000    3.000000   28.000000    0.000000   \n",
       "75%     668.500000    1.000000    3.000000   38.000000    1.000000   \n",
       "max     891.000000    1.000000    3.000000   80.000000    8.000000   \n",
       "\n",
       "            Parch        Fare  \n",
       "count  891.000000  891.000000  \n",
       "mean     0.381594   32.204208  \n",
       "std      0.806057   49.693429  \n",
       "min      0.000000    0.000000  \n",
       "25%      0.000000    7.910400  \n",
       "50%      0.000000   14.454200  \n",
       "75%      0.000000   31.000000  \n",
       "max      6.000000  512.329200  "
      ]
     },
     "execution_count": 1,
     "metadata": {},
     "output_type": "execute_result"
    }
   ],
   "source": [
    "import pandas as pd\n",
    "# df = pd.read_csv('train.csv')\n",
    "# df.describe()\n",
    "\n",
    "def read_data(path):\n",
    "    df = pd.read_csv(path)\n",
    "    return df\n",
    "\n",
    "path = 'train.csv'\n",
    "df = read_data(path)\n",
    "# print(df)\n",
    "df.describe()\n",
    "# print(df.iloc[0])"
   ]
  },
  {
   "cell_type": "markdown",
   "metadata": {},
   "source": [
    "b) Write a function that returns the number of rows that have at least one empty column value - (2.5 points)"
   ]
  },
  {
   "cell_type": "code",
   "execution_count": 140,
   "metadata": {},
   "outputs": [
    {
     "name": "stdout",
     "output_type": "stream",
     "text": [
      "there are 708 rows with at least one empty value\n"
     ]
    }
   ],
   "source": [
    "def num_nans(df):\n",
    "    # shape = df.shape\n",
    "    # num = 0\n",
    "    # # print(list(df))\n",
    "    # # print(shape[0])\n",
    "    # for i in range(shape[0]): # 0....891 去掉了列名，即最上面一行\n",
    "    #     for j in range(shape[1]): # 12\n",
    "    #         # if i == 0 and j == 0:\n",
    "    #         #     print(df.iloc[i,j]) \n",
    "    #         if df.iloc[i, j] == 0:\n",
    "    #             num += 1\n",
    "    #             break\n",
    "    #         continue\n",
    "    # empty不是0，是指空\n",
    "    return df.isna().any(axis = 1).sum()\n",
    "    \n",
    "\n",
    "# 891 x 12\n",
    "num_nans(df)\n",
    "print(\"there are \" +  str(num_nans(df)) + \" rows with at least one empty value\")"
   ]
  },
  {
   "cell_type": "markdown",
   "metadata": {},
   "source": [
    "c) Write a function that removes all columns with more than 200 NaN values - (2.5 points)"
   ]
  },
  {
   "cell_type": "code",
   "execution_count": 143,
   "metadata": {},
   "outputs": [
    {
     "data": {
      "text/plain": [
       "Index(['PassengerId', 'Survived', 'Pclass', 'Name', 'Sex', 'Age', 'SibSp',\n",
       "       'Parch', 'Ticket', 'Fare', 'Embarked'],\n",
       "      dtype='object')"
      ]
     },
     "execution_count": 143,
     "metadata": {},
     "output_type": "execute_result"
    }
   ],
   "source": [
    "# import numpy as np\n",
    "\n",
    "# def drop_na(df):\n",
    "#     shape = df.shape\n",
    "#     columns = list(df) # ['PassengerId', 'Survived', 'Pclass', 'Name', 'Sex', 'Age', 'SibSp', 'Parch', 'Ticket', 'Fare', 'Cabin', 'Embarked']\n",
    "#     # print(len(columns))\n",
    "#     # nan = np.nan\n",
    "#     for col in range(shape[1]): # 0,1,2,3...11\n",
    "#         num = 0\n",
    "#         for row in range(shape[0]): # 0....891\n",
    "#             if num > 200 : # more than 200 NaN\n",
    "#                 df.drop([columns[col]], axis = 1) #, inplace = True) # drop this col in the origin DataFrame\n",
    "#                 break\n",
    "#             if pd.isna(df.iloc[row, col]):\n",
    "#                  num += 1\n",
    "#     return df\n",
    "\n",
    "def drop_na(df):\n",
    "    columns = list(df) # ['PassengerId', 'Survived', 'Pclass', 'Name', 'Sex', 'Age', 'SibSp', 'Parch', 'Ticket', 'Fare', 'Cabin', 'Embarked']\n",
    "    for col in columns:\n",
    "        # print(df[col].notna().sum()) # 非空\n",
    "        if df[col].notna().sum() < len(df) - 200:\n",
    "            df.drop([col], axis = 1, inplace = True)\n",
    "    return df\n",
    "\n",
    "df = pd.read_csv('train.csv')\n",
    "df = drop_na(df)\n",
    "df.columns"
   ]
  },
  {
   "cell_type": "markdown",
   "metadata": {},
   "source": [
    "d) Write a function that replaces `male` with 0 and `female` with 1 - (2.5 points)"
   ]
  },
  {
   "cell_type": "code",
   "execution_count": 5,
   "metadata": {},
   "outputs": [
    {
     "name": "stdout",
     "output_type": "stream",
     "text": [
      "0        male\n",
      "1      female\n",
      "2      female\n",
      "3      female\n",
      "4        male\n",
      "        ...  \n",
      "886      male\n",
      "887    female\n",
      "888    female\n",
      "889      male\n",
      "890      male\n",
      "Name: Sex, Length: 891, dtype: object\n",
      "0      0\n",
      "1      1\n",
      "2      1\n",
      "3      1\n",
      "4      0\n",
      "      ..\n",
      "886    0\n",
      "887    1\n",
      "888    1\n",
      "889    0\n",
      "890    0\n",
      "Name: Sex, Length: 891, dtype: int64\n"
     ]
    }
   ],
   "source": [
    "def to_numerical(df):\n",
    "    # for sex in df['Sex']:  \n",
    "    #     if sex == 'male':\n",
    "    #         df['Sex'].replace('male', 0) # , inplace = True)\n",
    "    #     if sex == 'female':\n",
    "    #         df['Sex'].replace('female', 1) # , inplace = True)\n",
    "    df['Sex'].replace('male', 0, inplace = True)\n",
    "    df['Sex'].replace('female', 1, inplace = True)\n",
    "    return df['Sex']\n",
    "\n",
    "df = pd.read_csv('train.csv')\n",
    "print(df['Sex'])\n",
    "df['Sex'] = to_numerical(df)\n",
    "df.head()\n",
    "print(df['Sex'])"
   ]
  },
  {
   "cell_type": "markdown",
   "metadata": {},
   "source": [
    "e)  Write a function that adds four columns `First Name`, `Middle Name`, `Last Name`, and `Title` corresponding to the value in the `name` column. - (5 points) \n",
    "\n",
    "For example: `Braund, Mr. Owen Harris` would be: \n",
    "\n",
    "|First Name | Middle Name | Last Name | Title |\n",
    "|-----------|-------------|-----------|-------|\n",
    "| Owen      |  Harris     |  Braund   | Mr    |"
   ]
  },
  {
   "cell_type": "code",
   "execution_count": 6,
   "metadata": {},
   "outputs": [
    {
     "name": "stdout",
     "output_type": "stream",
     "text": [
      "0                                Braund, Mr. Owen Harris\n",
      "1      Cumings, Mrs. John Bradley (Florence Briggs Th...\n",
      "2                                 Heikkinen, Miss. Laina\n",
      "3           Futrelle, Mrs. Jacques Heath (Lily May Peel)\n",
      "4                               Allen, Mr. William Henry\n",
      "                             ...                        \n",
      "886                                Montvila, Rev. Juozas\n",
      "887                         Graham, Miss. Margaret Edith\n",
      "888             Johnston, Miss. Catherine Helen \"Carrie\"\n",
      "889                                Behr, Mr. Karl Howell\n",
      "890                                  Dooley, Mr. Patrick\n",
      "Name: Name, Length: 891, dtype: object\n"
     ]
    }
   ],
   "source": [
    "def extract_names(df):\n",
    "    Name = df['Name']\n",
    "    return # your code here\n",
    "\n",
    "\n",
    "df[['First Name', 'Middle Name', 'Last Name', 'Title']] = extract_names(df)\n",
    "df.head()\n",
    "print(df['Name'])"
   ]
  },
  {
   "cell_type": "markdown",
   "metadata": {},
   "source": [
    "f) Write a function that replaces all missing ages with the average age - (2.5 points)"
   ]
  },
  {
   "cell_type": "code",
   "execution_count": 7,
   "metadata": {},
   "outputs": [
    {
     "name": "stdout",
     "output_type": "stream",
     "text": [
      "0      22.0\n",
      "1      38.0\n",
      "2      26.0\n",
      "3      35.0\n",
      "4      35.0\n",
      "       ... \n",
      "886    27.0\n",
      "887    19.0\n",
      "888     NaN\n",
      "889    26.0\n",
      "890    32.0\n",
      "Name: Age, Length: 891, dtype: float64\n",
      "0      22.000000\n",
      "1      38.000000\n",
      "2      26.000000\n",
      "3      35.000000\n",
      "4      35.000000\n",
      "         ...    \n",
      "886    27.000000\n",
      "887    19.000000\n",
      "888    29.699118\n",
      "889    26.000000\n",
      "890    32.000000\n",
      "Name: Age, Length: 891, dtype: float64\n"
     ]
    }
   ],
   "source": [
    "def replace_with_mean(df):\n",
    "    average = df['Age'].mean()\n",
    "    df['Age'].fillna(average, inplace = True) # 填充空值\n",
    "    return df['Age']\n",
    "\n",
    "df = pd.read_csv('train.csv')\n",
    "print(df['Age'])\n",
    "df['Age'] = replace_with_mean(df)\n",
    "df.head()\n",
    "print(df['Age'])"
   ]
  },
  {
   "cell_type": "markdown",
   "metadata": {},
   "source": [
    "The next set of questions focus on visualization. Please use pandas and [matplotlib](https://pypi.org/project/matplotlib/) for all plotting.\n",
    "\n",
    "g) Plot a bar chart of the average age of those that survived and did not survive. Briefly comment on what you observe. - (2.5 points)"
   ]
  },
  {
   "cell_type": "code",
   "execution_count": 8,
   "metadata": {},
   "outputs": [
    {
     "name": "stdout",
     "output_type": "stream",
     "text": [
      "0    549\n",
      "1    342\n",
      "Name: Survived, dtype: int64\n"
     ]
    },
    {
     "data": {
      "image/png": "[encoded data removed]",
      "text/plain": [
       "<Figure size 640x480 with 1 Axes>"
      ]
     },
     "metadata": {},
     "output_type": "display_data"
    }
   ],
   "source": [
    "# survived_age, die_age = 0, 0\n",
    "# for col in df['Survived']:\n",
    "#     if col == 1:\n",
    "#         num += 1\n",
    "#         survived_age += survived_age\n",
    "#     else:\n",
    "#         die_age += die_age\n",
    "#         die += 1\n",
    "\n",
    "import matplotlib.pyplot as plt\n",
    "\n",
    "df = pd.read_csv('train.csv')\n",
    "\n",
    "num = df['Survived'].value_counts() # value_counts() 用来查看数据表中，指定列里有多少个不同的数据值，并计算每个不同值有在该列中的个数，同时还能根据需要进行排序。\n",
    "print(num)\n",
    "\n",
    "die_age = df.loc[df['Survived'] == 0]['Age'].mean()\n",
    "survived_age = df[df['Survived'] == 1]['Age'].mean()\n",
    "# print(die_age, survived_age,)\n",
    "\n",
    "data = [die_age, survived_age]\n",
    "labels = ['Not survived', 'Survived']\n",
    "plt.bar(range(len(data)), data, width = 0.5, tick_label = labels)\n",
    "plt.show()"
   ]
  },
  {
   "cell_type": "markdown",
   "metadata": {},
   "source": [
    "Comment: As can be seen from the graph, the average age of those who did not survive was a bit older. Average age of not survived is older than 30 but the survived is younger than 30, about 28.\n",
    "\n"
   ]
  },
  {
   "cell_type": "markdown",
   "metadata": {},
   "source": [
    "-> your answer here \n",
    "\n",
    "Comment: As can be seen from the graph, the average age of those who did not survive was a bit older. Average age of not survived is older than 30 but the survived is younger than 30, about 28.\n",
    "\n"
   ]
  },
  {
   "cell_type": "markdown",
   "metadata": {},
   "source": [
    "h) Plot a bar chart of the proportion that survived for male and female. Briefly comment on what you observe. - (2.5 points)"
   ]
  },
  {
   "cell_type": "code",
   "execution_count": 129,
   "metadata": {},
   "outputs": [
    {
     "name": "stdout",
     "output_type": "stream",
     "text": [
      "male      577\n",
      "female    314\n",
      "Name: Sex, dtype: int64\n",
      "female    233\n",
      "male      109\n",
      "Name: Sex, dtype: int64\n",
      "0.18890814558058924\n"
     ]
    },
    {
     "data": {
      "image/png": "[encoded data removed]",
      "text/plain": [
       "<Figure size 640x480 with 1 Axes>"
      ]
     },
     "metadata": {},
     "output_type": "display_data"
    }
   ],
   "source": [
    "# your code here\n",
    "\n",
    "df = pd.read_csv('train.csv')\n",
    "\n",
    "sex = df['Sex'].value_counts() # male: 577, female: 314\n",
    "#print(sex)\n",
    "survived = df[df['Survived'] == 1]['Sex'].value_counts()\n",
    "#print(survived)\n",
    "\n",
    "male_ratio = survived['male'] / sex['male']\n",
    "female_ratio = survived['female'] / sex['female']\n",
    "ratio = [male_ratio, female_ratio]\n",
    "#print(male_ratio)\n",
    "labels = ['Male Ration', 'Female Ratio']\n",
    "plt.bar(range(len(ratio)), ratio, width = 0.5, tick_label = labels)\n",
    "plt.show()"
   ]
  },
  {
   "cell_type": "markdown",
   "metadata": {},
   "source": [
    "-> your answer here\n",
    "\n",
    "Comment: More women survive than men. There are nearly twice as many surviving females as surviving males."
   ]
  },
  {
   "cell_type": "markdown",
   "metadata": {},
   "source": [
    "i) Plot a bar chart of the proportion that survived for each title. Briefly comment on what you observe. - (5 points)"
   ]
  },
  {
   "cell_type": "code",
   "execution_count": 132,
   "metadata": {},
   "outputs": [
    {
     "name": "stdout",
     "output_type": "stream",
     "text": [
      "0                                Braund, Mr. Owen Harris\n",
      "1      Cumings, Mrs. John Bradley (Florence Briggs Th...\n",
      "2                                 Heikkinen, Miss. Laina\n",
      "3           Futrelle, Mrs. Jacques Heath (Lily May Peel)\n",
      "4                               Allen, Mr. William Henry\n",
      "                             ...                        \n",
      "886                                Montvila, Rev. Juozas\n",
      "887                         Graham, Miss. Margaret Edith\n",
      "888             Johnston, Miss. Catherine Helen \"Carrie\"\n",
      "889                                Behr, Mr. Karl Howell\n",
      "890                                  Dooley, Mr. Patrick\n",
      "Name: Name, Length: 891, dtype: object\n",
      "0                             [Braund,  Mr. Owen Harris]\n",
      "1      [Cumings,  Mrs. John Bradley (Florence Briggs ...\n",
      "2                              [Heikkinen,  Miss. Laina]\n",
      "3        [Futrelle,  Mrs. Jacques Heath (Lily May Peel)]\n",
      "4                            [Allen,  Mr. William Henry]\n",
      "                             ...                        \n",
      "886                             [Montvila,  Rev. Juozas]\n",
      "887                      [Graham,  Miss. Margaret Edith]\n",
      "888          [Johnston,  Miss. Catherine Helen \"Carrie\"]\n",
      "889                             [Behr,  Mr. Karl Howell]\n",
      "890                               [Dooley,  Mr. Patrick]\n",
      "Name: Name, Length: 891, dtype: object\n",
      "[\"['Braund', ' Mr\", \" Owen Harris']\"]\n"
     ]
    }
   ],
   "source": [
    "# your code here\n",
    "df = pd.read_csv('train.csv')\n",
    "#survived = df[df['Survived'] == 1]['Pclass'].value_counts()\n",
    "print(df['Name'])\n",
    "df1 = df['Name'].str.split(',')\n",
    "print(df1)\n",
    "title = str(df1[0]).split('.')\n",
    "print(title)\n",
    "# plt.bar(range(len(survived)), survived, width = 0.5)\n",
    "# plt.show()"
   ]
  },
  {
   "cell_type": "markdown",
   "metadata": {},
   "source": [
    "-> your answer here"
   ]
  },
  {
   "cell_type": "markdown",
   "metadata": {},
   "source": [
    "j) Plot a bar chart of the average fare for those that survived and those that did not survive. Briefly comment on what you observe. - (5 points)"
   ]
  },
  {
   "cell_type": "code",
   "execution_count": 10,
   "metadata": {},
   "outputs": [
    {
     "name": "stdout",
     "output_type": "stream",
     "text": [
      "48.39540760233917\n",
      "22.117886885245877\n"
     ]
    },
    {
     "data": {
      "image/png": "[encoded data removed]",
      "text/plain": [
       "<Figure size 640x480 with 1 Axes>"
      ]
     },
     "metadata": {},
     "output_type": "display_data"
    }
   ],
   "source": [
    "# your code here\n",
    "df = pd.read_csv('train.csv')\n",
    "survived_fare = df[df['Survived'] == 1]['Fare'].mean()\n",
    "print(survived_fare)\n",
    "die_fare = df[df['Survived'] == 0]['Fare'].mean()\n",
    "print(die_fare)\n",
    "data = [survived_fare, die_fare]\n",
    "labels = ['survived', 'not survived']\n",
    "plt.bar(range(len(data)), data, width = 0.5, tick_label = labels)\n",
    "plt.show()"
   ]
  },
  {
   "cell_type": "markdown",
   "metadata": {},
   "source": [
    "-> your answer here\n",
    "\n",
    "Comment: The average fare for those who didn't survive was more than half that of those who survived. It seems like that those who bought cheap tickets had lower survival rates."
   ]
  },
  {
   "cell_type": "markdown",
   "metadata": {},
   "source": [
    "k) Create a boxplot for the fare of those that survived and those that did not survive. Briefly comment on what you observe. - (5 points)"
   ]
  },
  {
   "cell_type": "code",
   "execution_count": 11,
   "metadata": {},
   "outputs": [
    {
     "name": "stdout",
     "output_type": "stream",
     "text": [
      "0       7.2500\n",
      "4       8.0500\n",
      "5       8.4583\n",
      "6      51.8625\n",
      "7      21.0750\n",
      "        ...   \n",
      "884     7.0500\n",
      "885    29.1250\n",
      "886    13.0000\n",
      "888    23.4500\n",
      "890     7.7500\n",
      "Name: Fare, Length: 549, dtype: float64\n"
     ]
    },
    {
     "data": {
      "image/png": "[encoded data removed]",
      "text/plain": [
       "<Figure size 800x600 with 1 Axes>"
      ]
     },
     "metadata": {},
     "output_type": "display_data"
    }
   ],
   "source": [
    "# your code here\n",
    "df = pd.read_csv('train.csv')\n",
    "survived_fare = df[df['Survived'] == 1]['Fare']\n",
    "die_fare = df[df['Survived'] == 0]['Fare']\n",
    "print(die_fare)\n",
    "box1, box2 = survived_fare, die_fare\n",
    "labels = ['survived', 'not survived']\n",
    "\n",
    "plt.figure(figsize=(8,6)) # 设置画布的尺寸\n",
    "plt.boxplot([box1, box2], labels = labels, showmeans=True, sym = '.')\n",
    "plt.show()"
   ]
  },
  {
   "cell_type": "markdown",
   "metadata": {},
   "source": [
    "-> your answer here"
   ]
  },
  {
   "cell_type": "markdown",
   "metadata": {},
   "source": [
    "k) Create a function to subtract the mean fare from the actual fare then divide by the standard deviation - (2.5 points)"
   ]
  },
  {
   "cell_type": "code",
   "execution_count": 63,
   "metadata": {},
   "outputs": [
    {
     "name": "stdout",
     "output_type": "stream",
     "text": [
      "0     -0.502163\n",
      "1      0.786404\n",
      "2     -0.488580\n",
      "3      0.420494\n",
      "4     -0.486064\n",
      "         ...   \n",
      "886   -0.386454\n",
      "887   -0.044356\n",
      "888   -0.176164\n",
      "889   -0.044356\n",
      "890   -0.492101\n",
      "Name: Fare, Length: 891, dtype: float64\n"
     ]
    }
   ],
   "source": [
    "# your code here\n",
    "\n",
    "def modify_fare(df):\n",
    "    mean = df['Fare'].mean()\n",
    "    std = df['Fare'].std()\n",
    "    # print(std, mean)\n",
    "    # for i in range(len(df['Fare'])):\n",
    "    #     fare = df['Fare'][i]\n",
    "    #     # print(\"time:\",i, fare)\n",
    "    #     new_fare = (fare - mean) / std\n",
    "    #     # print(i, new_fare)\n",
    "    #     df['Fare'].replace(fare, new_fare, inplace = True)\n",
    "    return (df['Fare'] - mean) / std\n",
    "\n",
    "df = pd.read_csv('train.csv')\n",
    "df['Fare'] = modify_fare(df)\n",
    "# df.head()\n",
    "print(df['Fare'])\n"
   ]
  },
  {
   "cell_type": "markdown",
   "metadata": {},
   "source": [
    "l) Remove all non-numerical columns from the dataframe. - (2.5 points)"
   ]
  },
  {
   "cell_type": "code",
   "execution_count": 13,
   "metadata": {},
   "outputs": [
    {
     "name": "stdout",
     "output_type": "stream",
     "text": [
      "PassengerId      int64\n",
      "Survived         int64\n",
      "Pclass           int64\n",
      "Name            object\n",
      "Sex             object\n",
      "Age            float64\n",
      "SibSp            int64\n",
      "Parch            int64\n",
      "Ticket          object\n",
      "Fare           float64\n",
      "Cabin           object\n",
      "Embarked        object\n",
      "dtype: object\n",
      "\n",
      "\n",
      "PassengerId      int64\n",
      "Survived         int64\n",
      "Pclass           int64\n",
      "Age            float64\n",
      "SibSp            int64\n",
      "Parch            int64\n",
      "Fare           float64\n",
      "dtype: object\n",
      "['PassengerId', 'Survived', 'Pclass', 'Age', 'SibSp', 'Parch', 'Fare']\n"
     ]
    }
   ],
   "source": [
    "# from pandas.api.types import is_number\n",
    "\n",
    "\n",
    "\n",
    "df = pd.read_csv('train.csv')\n",
    "print(df.dtypes)\n",
    "\n",
    "columns = list(df) # ['PassengerId', 'Survived', 'Pclass', 'Name', 'Sex', 'Age', 'SibSp', 'Parch', 'Ticket', 'Fare', 'Cabin', 'Embarked']\n",
    "for col in columns:\n",
    "    if df[col].dtypes == object:# or df[col].dtype == float):\n",
    "        df.drop(col, axis = 1, inplace = True)\n",
    "\n",
    "print(\"\\n\")\n",
    "print(df.dtypes)\n",
    "print(list(df))\n",
    "\n",
    "\n",
    "\n"
   ]
  },
  {
   "cell_type": "markdown",
   "metadata": {},
   "source": [
    "m) Ignoring passenger ID, write a function that returns the names of the N most similar pairs of passengers using the euclidean distance? - (15 points)"
   ]
  },
  {
   "cell_type": "code",
   "execution_count": 14,
   "metadata": {},
   "outputs": [
    {
     "name": "stdout",
     "output_type": "stream",
     "text": [
      "The 3 most similar passengers are: None\n"
     ]
    }
   ],
   "source": [
    "def N_most_similar_pairs(df, N):\n",
    "    return # < your code here >\n",
    "\n",
    "print(\"The 3 most similar passengers are: \" + str(N_most_similar_pairs(df, 3)))"
   ]
  },
  {
   "cell_type": "markdown",
   "metadata": {},
   "source": [
    "## Exercise 2 - (40 points)\n",
    "\n",
    "Another way to get data is by using APIs. Here we will be using the google books API (https://developers.google.com/books/docs/overview)\n",
    "\n",
    "a) Create a list with these topic strings: Python; Data Science; Data Analysis; Machine Learning; and Deep \n",
    "Learning. Use these topics, one at a time, to query the Google Books API by modifying the code below. - (5 points)"
   ]
  },
  {
   "cell_type": "code",
   "execution_count": 138,
   "metadata": {},
   "outputs": [],
   "source": [
    "import requests\n",
    "import json\n",
    "\n",
    "\"\"\"\n",
    "    Google Books Api\n",
    "    See: https://developers.google.com/books/\n",
    "\"\"\"\n",
    "\n",
    "def get(topic=\"\"):\n",
    "    BASEURL = 'https://www.googleapis.com/books/v1/volumes'\n",
    "    headers = {'Content-Type': 'application/json'}\n",
    "\n",
    "    response = requests.get(BASEURL + \"?q=\" + topic, headers=headers)\n",
    "\n",
    "    if response.status_code == 200:\n",
    "        #print('tt')\n",
    "        return json.loads(response.content.decode('utf-8'))\n",
    "\n",
    "    return response\n",
    "\n",
    "python = get(\"Python\")\n",
    "# print(python)\n",
    "data_science = get(\"Data Science\")\n",
    "data_analytics = get(\"Data Analysis\")\n",
    "machine_learning = get(\"Machine Learning\")\n",
    "deep_learning = get(\"Deep Learning\")"
   ]
  },
  {
   "cell_type": "markdown",
   "metadata": {},
   "source": [
    "b) For each returned JSON string: Convert the JSON string to a dict using `loads( )` then use this to convert it to a DataFrame: `pd.json_normalize( thedict['items'] )`. Then save them as `.csv`. - (5 points)"
   ]
  },
  {
   "cell_type": "code",
   "execution_count": 139,
   "metadata": {},
   "outputs": [],
   "source": [
    "# your code here\n",
    "\n",
    "PY_df = pd.json_normalize(python['items'])\n",
    "# print(PY_df)\n",
    "PY_df.to_csv(\"python.csv\")\n",
    "\n",
    "DS_df = pd.json_normalize(data_science['items'])\n",
    "DS_df.to_csv(\"Data Science.csv\")\n",
    "\n",
    "DA_df = pd.json_normalize(data_analytics['items'])\n",
    "DA_df.to_csv(\"Data Analytics.csv\")\n",
    "\n",
    "ML_df = pd.json_normalize(machine_learning['items'])\n",
    "ML_df.to_csv(\"Machine Learning.csv\")\n",
    "\n",
    "DL_df = pd.json_normalize(deep_learning['items'])\n",
    "DL_df.to_csv(\"Deep Learning.csv\")"
   ]
  },
  {
   "cell_type": "markdown",
   "metadata": {},
   "source": [
    "c) For each DataFrame, relabel `volumeInfo.title` as `Title` and `volumeInfo.authors` as `Authors`. - (5 points)"
   ]
  },
  {
   "cell_type": "code",
   "execution_count": 76,
   "metadata": {},
   "outputs": [],
   "source": [
    "# your code here\n",
    "\n",
    "PY_df = pd.json_normalize(python['items'])\n",
    "# print(PY_df)\n",
    "PY_df.rename(columns={'volumeInfo.title':'Title','volumeInfo.authors':'Authors'}, inplace = True)\n",
    "# print(PY_df)\n",
    "\n",
    "DS_df = pd.json_normalize(data_science['items'])\n",
    "DS_df.rename(columns={'volumeInfo.title':'Title','volumeInfo.authors':'Authors'}, inplace = True)\n",
    "\n",
    "DA_df = pd.json_normalize(data_analytics['items'])\n",
    "DA_df.rename(columns={'volumeInfo.title':'Title','volumeInfo.authors':'Authors'}, inplace = True)\n",
    "\n",
    "ML_df = pd.json_normalize(machine_learning['items'])\n",
    "ML_df.rename(columns={'volumeInfo.title':'Title','volumeInfo.authors':'Authors'}, inplace = True)\n",
    "\n",
    "DL_df = pd.json_normalize(deep_learning['items'])\n",
    "DL_df.rename(columns={'volumeInfo.title':'Title','volumeInfo.authors':'Authors'}, inplace = True)\n"
   ]
  },
  {
   "cell_type": "markdown",
   "metadata": {},
   "source": [
    "d) For each DataFrame create a new column called `Topic` with the name of the topic from the API query above. Then merge all DataFrames into one and save it to a new `.csv` file. - (10 points)"
   ]
  },
  {
   "cell_type": "code",
   "execution_count": 82,
   "metadata": {},
   "outputs": [
    {
     "name": "stdout",
     "output_type": "stream",
     "text": [
      "           kind            id         etag  \\\n",
      "0  books#volume  LqmaDwAAQBAJ  Wv7LuTTrKMA   \n",
      "1  books#volume  Chr1NDlUcI8C  5QGVJuRLa6c   \n",
      "2  books#volume  bTUFCAAAQBAJ  M3GhSu3FpsY   \n",
      "3  books#volume  aJQILlLxRmAC  u/yzRuRX0p0   \n",
      "4  books#volume  RQ6xDwAAQBAJ  h+k0FZwGppQ   \n",
      "5  books#volume  0enPvgEACAAJ  jkq89uYmmXw   \n",
      "6  books#volume  H9emM_LGFDEC  8YLj+V5B5+M   \n",
      "7  books#volume  2tAwEAAAQBAJ  5gUvvp8/1lU   \n",
      "8  books#volume  b1v6DwAAQBAJ  mtdFO4Fh+/E   \n",
      "9  books#volume  2XliiK7FKoEC  L/Z0j/J9kBE   \n",
      "\n",
      "                                            selfLink  \\\n",
      "0  https://www.googleapis.com/books/v1/volumes/Lq...   \n",
      "1  https://www.googleapis.com/books/v1/volumes/Ch...   \n",
      "2  https://www.googleapis.com/books/v1/volumes/bT...   \n",
      "3  https://www.googleapis.com/books/v1/volumes/aJ...   \n",
      "4  https://www.googleapis.com/books/v1/volumes/RQ...   \n",
      "5  https://www.googleapis.com/books/v1/volumes/0e...   \n",
      "6  https://www.googleapis.com/books/v1/volumes/H9...   \n",
      "7  https://www.googleapis.com/books/v1/volumes/2t...   \n",
      "8  https://www.googleapis.com/books/v1/volumes/b1...   \n",
      "9  https://www.googleapis.com/books/v1/volumes/2X...   \n",
      "\n",
      "                                               Title  \\\n",
      "0                                 Python For Dummies   \n",
      "1                         Python Essential Reference   \n",
      "2                                   Effective Python   \n",
      "3                                 Python Programming   \n",
      "4  Automate the Boring Stuff with Python, 2nd Edi...   \n",
      "5                                    The Python Book   \n",
      "6                            Programming in Python 3   \n",
      "7                          Expert Python Programming   \n",
      "8                                     Serious Python   \n",
      "9                                     Violent Python   \n",
      "\n",
      "                          Authors                 volumeInfo.publisher  \\\n",
      "0      [Stef Maruch, Aahz Maruch]                    John Wiley & Sons   \n",
      "1              [David M. Beazley]          Addison-Wesley Professional   \n",
      "2                 [Brett Slatkin]                    Pearson Education   \n",
      "3                 [John M. Zelle]  Franklin, Beedle & Associates, Inc.   \n",
      "4                   [Al Sweigart]                      No Starch Press   \n",
      "5            [Rob Mastrodomenico]                                Wiley   \n",
      "6              [Mark Summerfield]          Addison-Wesley Professional   \n",
      "7  [Michał Jaworski, Tarek Ziadé]                 Packt Publishing Ltd   \n",
      "8                 [Julien Danjou]                      No Starch Press   \n",
      "9                   [TJ O'Connor]                               Newnes   \n",
      "\n",
      "  volumeInfo.publishedDate                             volumeInfo.description  \\\n",
      "0               2006-09-14  Python is one of the most powerful, easy-to-re...   \n",
      "1                     2009  Presents a guide to the features and library m...   \n",
      "2                     2015  \"It's easy to start writing code with Python: ...   \n",
      "3                     2004  This book is suitable for use in a university-...   \n",
      "4               2019-11-12  The second edition of this best-selling Python...   \n",
      "5               2022-03-14  The Python Book Discover the power of one of t...   \n",
      "6                     2010  Practical Python 3 for experienced developers:...   \n",
      "7               2021-05-28  Gain a deep understanding of building, maintai...   \n",
      "8               2018-12-27  An indispensable collection of practical tips ...   \n",
      "9               2012-12-28  Violent Python shows you how to move from a th...   \n",
      "\n",
      "                      volumeInfo.industryIdentifiers  ...  \\\n",
      "0  [{'type': 'ISBN_13', 'identifier': '9780471778...  ...   \n",
      "1  [{'type': 'ISBN_13', 'identifier': '9780672329...  ...   \n",
      "2  [{'type': 'ISBN_13', 'identifier': '9780134034...  ...   \n",
      "3  [{'type': 'ISBN_13', 'identifier': '9781887902...  ...   \n",
      "4  [{'type': 'ISBN_13', 'identifier': '9781593279...  ...   \n",
      "5  [{'type': 'ISBN_10', 'identifier': '1119573319...  ...   \n",
      "6  [{'type': 'ISBN_13', 'identifier': '9780321680...  ...   \n",
      "7  [{'type': 'ISBN_13', 'identifier': '9781801076...  ...   \n",
      "8  [{'type': 'ISBN_13', 'identifier': '9781593278...  ...   \n",
      "9  [{'type': 'ISBN_13', 'identifier': '9781597499...  ...   \n",
      "\n",
      "                                 volumeInfo.subtitle  \\\n",
      "0                                                NaN   \n",
      "1                                                NaN   \n",
      "2            59 Specific Ways to Write Better Python   \n",
      "3                An Introduction to Computer Science   \n",
      "4          Practical Programming for Total Beginners   \n",
      "5                                                NaN   \n",
      "6     A Complete Introduction to the Python Language   \n",
      "7  Master Python by learning the best coding prac...   \n",
      "8  Black-Belt Advice on Deployment, Scalability, ...   \n",
      "9  A Cookbook for Hackers, Forensic Analysts, Pen...   \n",
      "\n",
      "   saleInfo.listPrice.amount  saleInfo.listPrice.currencyCode  \\\n",
      "0                        NaN                              NaN   \n",
      "1                        NaN                              NaN   \n",
      "2                        NaN                              NaN   \n",
      "3                        NaN                              NaN   \n",
      "4                      23.99                              USD   \n",
      "5                        NaN                              NaN   \n",
      "6                        NaN                              NaN   \n",
      "7                      37.99                              USD   \n",
      "8                        NaN                              NaN   \n",
      "9                      49.95                              USD   \n",
      "\n",
      "  saleInfo.retailPrice.amount saleInfo.retailPrice.currencyCode  \\\n",
      "0                         NaN                               NaN   \n",
      "1                         NaN                               NaN   \n",
      "2                         NaN                               NaN   \n",
      "3                         NaN                               NaN   \n",
      "4                       23.99                               USD   \n",
      "5                         NaN                               NaN   \n",
      "6                         NaN                               NaN   \n",
      "7                       30.39                               USD   \n",
      "8                         NaN                               NaN   \n",
      "9                       28.99                               USD   \n",
      "\n",
      "                                    saleInfo.buyLink  \\\n",
      "0                                                NaN   \n",
      "1                                                NaN   \n",
      "2                                                NaN   \n",
      "3                                                NaN   \n",
      "4  https://play.google.com/store/books/details?id...   \n",
      "5                                                NaN   \n",
      "6                                                NaN   \n",
      "7  https://play.google.com/store/books/details?id...   \n",
      "8                                                NaN   \n",
      "9  https://play.google.com/store/books/details?id...   \n",
      "\n",
      "                                     saleInfo.offers  \\\n",
      "0                                                NaN   \n",
      "1                                                NaN   \n",
      "2                                                NaN   \n",
      "3                                                NaN   \n",
      "4  [{'finskyOfferType': 1, 'listPrice': {'amountI...   \n",
      "5                                                NaN   \n",
      "6                                                NaN   \n",
      "7  [{'finskyOfferType': 1, 'listPrice': {'amountI...   \n",
      "8                                                NaN   \n",
      "9  [{'finskyOfferType': 1, 'listPrice': {'amountI...   \n",
      "\n",
      "                        accessInfo.epub.acsTokenLink  \\\n",
      "0                                                NaN   \n",
      "1                                                NaN   \n",
      "2                                                NaN   \n",
      "3                                                NaN   \n",
      "4                                                NaN   \n",
      "5                                                NaN   \n",
      "6                                                NaN   \n",
      "7                                                NaN   \n",
      "8                                                NaN   \n",
      "9  http://books.google.com/books/download/Violent...   \n",
      "\n",
      "                         accessInfo.pdf.acsTokenLink   Topic  \n",
      "0                                                NaN  Python  \n",
      "1                                                NaN  Python  \n",
      "2                                                NaN  Python  \n",
      "3                                                NaN  Python  \n",
      "4                                                NaN  Python  \n",
      "5                                                NaN  Python  \n",
      "6                                                NaN  Python  \n",
      "7                                                NaN  Python  \n",
      "8                                                NaN  Python  \n",
      "9  http://books.google.com/books/download/Violent...  Python  \n",
      "\n",
      "[10 rows x 52 columns]\n"
     ]
    }
   ],
   "source": [
    "# your code here\n",
    "\n",
    "PY_df['Topic'] = \"Python\"\n",
    "DS_df['Topic'] = \"Data Science\"\n",
    "DA_df['Topic'] = \"Data Analysis\"\n",
    "ML_df['Topic'] = \"Machine Learning\"\n",
    "DL_df['Topic'] = \"Deep Learning\"\n",
    "\n",
    "# print(PY_df)\n"
   ]
  },
  {
   "cell_type": "markdown",
   "metadata": {},
   "source": [
    "e) Write a function that returns all rows whose `Title` contains the word `Data` (case incensitive). - (5 points)"
   ]
  },
  {
   "cell_type": "code",
   "execution_count": 88,
   "metadata": {},
   "outputs": [
    {
     "name": "stdout",
     "output_type": "stream",
     "text": [
      "0                                   Python For Dummies\n",
      "1                           Python Essential Reference\n",
      "2                                     Effective Python\n",
      "3                                   Python Programming\n",
      "4    Automate the Boring Stuff with Python, 2nd Edi...\n",
      "5                                      The Python Book\n",
      "6                              Programming in Python 3\n",
      "7                            Expert Python Programming\n",
      "8                                       Serious Python\n",
      "9                                       Violent Python\n",
      "Name: Title, dtype: object\n",
      "Empty DataFrame\n",
      "Columns: [kind, id, etag, selfLink, Title, Authors, volumeInfo.publisher, volumeInfo.publishedDate, volumeInfo.description, volumeInfo.industryIdentifiers, volumeInfo.readingModes.text, volumeInfo.readingModes.image, volumeInfo.pageCount, volumeInfo.printType, volumeInfo.categories, volumeInfo.averageRating, volumeInfo.ratingsCount, volumeInfo.maturityRating, volumeInfo.allowAnonLogging, volumeInfo.contentVersion, volumeInfo.panelizationSummary.containsEpubBubbles, volumeInfo.panelizationSummary.containsImageBubbles, volumeInfo.imageLinks.smallThumbnail, volumeInfo.imageLinks.thumbnail, volumeInfo.language, volumeInfo.previewLink, volumeInfo.infoLink, volumeInfo.canonicalVolumeLink, saleInfo.country, saleInfo.saleability, saleInfo.isEbook, accessInfo.country, accessInfo.viewability, accessInfo.embeddable, accessInfo.publicDomain, accessInfo.textToSpeechPermission, accessInfo.epub.isAvailable, accessInfo.pdf.isAvailable, accessInfo.webReaderLink, accessInfo.accessViewStatus, accessInfo.quoteSharingAllowed, searchInfo.textSnippet, volumeInfo.subtitle, saleInfo.listPrice.amount, saleInfo.listPrice.currencyCode, saleInfo.retailPrice.amount, saleInfo.retailPrice.currencyCode, saleInfo.buyLink, saleInfo.offers, accessInfo.epub.acsTokenLink, accessInfo.pdf.acsTokenLink, Topic]\n",
      "Index: []\n",
      "\n",
      "[0 rows x 52 columns]\n"
     ]
    }
   ],
   "source": [
    "# your code here\n",
    "\n",
    "def Data_row(df):\n",
    "    data = df.loc[df['Title'].str.contains(\"Data\")] # 获取列名中包含“指定字符”这个字符串的所有行\n",
    "    return data\n",
    "\n",
    "\n",
    "# test cases\n",
    "print(DS_df['Title'])\n",
    "data = Data_row(DS_df)\n",
    "print(data)\n",
    "\n",
    "print(PY_df['Title'])\n",
    "data1 = Data_row(PY_df)\n",
    "print(data1)\n",
    "\n",
    "\n"
   ]
  },
  {
   "cell_type": "markdown",
   "metadata": {},
   "source": [
    "f) Write a function that returns all rows whose `Authors` first or last name starts with the letter `E` - (10 points)"
   ]
  },
  {
   "cell_type": "code",
   "execution_count": 89,
   "metadata": {},
   "outputs": [
    {
     "name": "stdout",
     "output_type": "stream",
     "text": [
      "0        [Stef Maruch, Aahz Maruch]\n",
      "1                [David M. Beazley]\n",
      "2                   [Brett Slatkin]\n",
      "3                   [John M. Zelle]\n",
      "4                     [Al Sweigart]\n",
      "5              [Rob Mastrodomenico]\n",
      "6                [Mark Summerfield]\n",
      "7    [Michał Jaworski, Tarek Ziadé]\n",
      "8                   [Julien Danjou]\n",
      "9                     [TJ O'Connor]\n",
      "Name: Authors, dtype: object\n"
     ]
    }
   ],
   "source": [
    "# your code here\n",
    "\n",
    "print(PY_df['Authors'])"
   ]
  }
 ],
 "metadata": {
  "kernelspec": {
   "display_name": "Python 3.9.13 ('CS506HMK1')",
   "language": "python",
   "name": "python3"
  },
  "language_info": {
   "codemirror_mode": {
    "name": "ipython",
    "version": 3
   },
   "file_extension": ".py",
   "mimetype": "text/x-python",
   "name": "python",
   "nbconvert_exporter": "python",
   "pygments_lexer": "ipython3",
   "version": "3.9.13"
  },
  "orig_nbformat": 4,
  "vscode": {
   "interpreter": {
    "hash": "17071f33b5e32d0e891e6f8e57b35561e5efce5ec6fb7850ac2a68bf8dba42ef"
   }
  }
 },
 "nbformat": 4,
 "nbformat_minor": 2
}
